{
  "nbformat": 4,
  "nbformat_minor": 0,
  "metadata": {
    "colab": {
      "provenance": [],
      "include_colab_link": true
    },
    "kernelspec": {
      "name": "python3",
      "display_name": "Python 3"
    },
    "language_info": {
      "name": "python"
    }
  },
  "cells": [
    {
      "cell_type": "markdown",
      "metadata": {
        "id": "view-in-github",
        "colab_type": "text"
      },
      "source": [
        "<a href=\"https://colab.research.google.com/github/jericohd/Scrapy_NASA/blob/main/Copy_of_Learning_Curves.ipynb\" target=\"_parent\"><img src=\"https://colab.research.google.com/assets/colab-badge.svg\" alt=\"Open In Colab\"/></a>"
      ]
    },
    {
      "cell_type": "markdown",
      "source": [
        "# **Maestría en Inteligencia Artificial Aplicada**\n",
        "\n",
        "## **Curso: Inteligencia Artificial y Aprendizaje Automático**\n",
        "\n",
        "### Tecnológico de Monterrey\n",
        "\n",
        "### Prof Luis Eduardo Falcón Morales\n",
        "\n",
        "## Adtividad de Semana 7\n",
        "\n",
        "### **Campañas publicitarias en redes sociales - Modelos de Regresión**"
      ],
      "metadata": {
        "id": "cCgXoRxlVFi0"
      }
    },
    {
      "cell_type": "markdown",
      "source": [
        "### **Trabajaremos con el archivo \"dataset_Facebook.csv\" que encuentras en la siguiente liga:**\n",
        "\n",
        "https://archive.ics.uci.edu/dataset/368/facebook+metrics\n",
        "\n",
        "### **Estos datos están asociados al siguiente artículo de Moro et.al., que deberás descargar para contestar varias de las preguntas de esta actividad:**\n",
        "\n",
        "https://www.semanticscholar.org/paper/Predicting-social-media-performance-metrics-and-of-Moro-Rita/dec55692590820754b53c916e29bb2b42c0e5104\n"
      ],
      "metadata": {
        "id": "EZ_5sfaamvHY"
      }
    },
    {
      "cell_type": "markdown",
      "source": [
        "### **NOTA: No modifiques el código, salvo en las partes que se te indica.**"
      ],
      "metadata": {
        "id": "gOoOtosZ4bzA"
      }
    },
    {
      "cell_type": "code",
      "source": [
        "# Puedes incluir más librerías, de ser necesario:\n",
        "\n",
        "import pandas as pd\n",
        "import matplotlib.pyplot as plt\n",
        "import numpy as np\n",
        "\n",
        "from sklearn.model_selection import train_test_split\n",
        "from sklearn.pipeline import Pipeline\n",
        "from sklearn.compose import ColumnTransformer\n",
        "from sklearn.impute import SimpleImputer\n",
        "from sklearn.preprocessing import OneHotEncoder\n",
        "from sklearn.preprocessing import OrdinalEncoder\n",
        "\n",
        "from sklearn.ensemble import RandomForestRegressor\n",
        "from xgboost import XGBRegressor\n",
        "from sklearn.neural_network import MLPRegressor\n",
        "from sklearn.svm import SVR\n",
        "\n",
        "from sklearn import metrics\n",
        "from sklearn.model_selection import RepeatedKFold\n",
        "from sklearn.model_selection import cross_validate\n",
        "from sklearn.metrics import mean_squared_error\n",
        "from sklearn.model_selection import learning_curve"
      ],
      "metadata": {
        "id": "9MZs9gKJ1fWZ"
      },
      "execution_count": null,
      "outputs": []
    },
    {
      "cell_type": "markdown",
      "source": [
        "## **Ejercicio 1**\n"
      ],
      "metadata": {
        "id": "wLK5tyC0afDk"
      }
    },
    {
      "cell_type": "markdown",
      "source": [
        "### **Describe en qué consiste el método llamado de \"Curvas de Aprendizaje\" (Learning Cures), para monitorear el subentrenamiento o sobrbeentrenamiento de un modelo.**\n",
        "\n",
        "#### NOTA: Puedes apoyarte en la documentación de sklearn:\n",
        "\n",
        "https://scikit-learn.org/stable/auto_examples/model_selection/plot_learning_curve.html#sphx-glr-auto-examples-model-selection-plot-learning-curve-py\n",
        "\n"
      ],
      "metadata": {
        "id": "VUaKQbUWxNYD"
      }
    },
    {
      "cell_type": "markdown",
      "source": [
        "### ++++++++ Inicia la sección de agregar texto: +++++++++++\n",
        "\n",
        "¿Qué son las curvas de aprendizaje?\n",
        "\n",
        "Las curvas de aprendizaje son un vistazo del entrenamiento del modelo. Te permiten observar cómo este aprende y si está siguiendo el camino correcto.\n",
        "\n",
        "Se utilizan dos gráficas, en una se muestra el error del modelo en dos conjuntos de datos: uno con el que se entrena y otro independiente para validación.\n",
        "\n",
        "\n",
        "### ++++++++ Termina la sección de agregar texto. +++++++++++"
      ],
      "metadata": {
        "id": "xBYkgkl5yDWn"
      }
    },
    {
      "cell_type": "markdown",
      "source": [
        "## **Ejercicio 2**"
      ],
      "metadata": {
        "id": "XmUZ46CwyEyu"
      }
    },
    {
      "cell_type": "markdown",
      "source": [
        "### **De acuerdo al artículo de Moro et.al., contesta las siguientes preguntas:**\n",
        "\n",
        "*   **a. ¿Cuál es el objetivo del problema que se plantea en el artículo?**\n"
      ],
      "metadata": {
        "id": "8pcpweI8aie8"
      }
    },
    {
      "cell_type": "markdown",
      "source": [
        "### ++++++++ Inicia la sección de agregar texto: +++++++++++\n",
        "\n",
        "como objetivo principal desarrollar un modelo que prediga el impacto de las publicaciones en redes sociales (Facebook) utilizando las características de dichas publicaciones. Específicamente, los objetivos del estudio son:\n",
        "\n",
        "Implementar un modelo que prediga el impacto de las publicaciones utilizando sus características.\n",
        "\n",
        "Medir el valor predictivo del modelo cuando se aplica a varias métricas de salida, evaluando la diferencia entre el valor predicho por el modelo y el valor real de la métrica.\n",
        "\n",
        "Evaluar el conocimiento proporcionado por el modelo en términos de qué características de entrada afectan las métricas de impacto y cómo estas características influyen en cada publicación, apoyando así las decisiones de los gerentes.\n",
        "\n",
        "Definir una relación causal entre el conocimiento encontrado y la construcción de la marca, relacionando la influencia de las características de entrada y el impacto de las publicaciones en los clientes, y formulando hipótesis sobre cómo dichas métricas pueden contribuir efectivamente al reconocimiento de la marca​​.\n",
        "\n",
        "\n",
        "### ++++++++ Termina la sección de agregar texto. +++++++++++"
      ],
      "metadata": {
        "id": "WIqvDWS4tFF2"
      }
    },
    {
      "cell_type": "markdown",
      "source": [
        "\n",
        "*   **b. Describe a continuación el significado de cada una de las 8 variables con la cuales trabajaremos, de acuerdo a la información de las Tablas 2 y 3 del artículo de Moro et.al.**"
      ],
      "metadata": {
        "id": "DbSEBatds8Vu"
      }
    },
    {
      "cell_type": "markdown",
      "source": [
        "### ++++++++ Inicia la sección de agregar texto: +++++++++++\n",
        "\n",
        "\n",
        "1. Lifetime post total reach: El número de personas que vieron una publicación de la página (usuarios únicos)​​.\n",
        "\n",
        "2. Lifetime post total impressions: El número de veces que una publicación de una página se muestra, ya sea que la publicación sea clickeada o no. Las personas pueden ver múltiples impresiones de la misma publicación. Por ejemplo, alguien podría ver una actualización de la página en su News Feed una vez y luego una segunda vez si un amigo la comparte​​.\n",
        "\n",
        "3. Lifetime engaged users: El número de personas que hicieron clic en cualquier parte de una publicación (usuarios únicos)​​.\n",
        "\n",
        "4. Lifetime post consumers: El número de personas que hicieron clic en cualquier parte de una publicación​​.\n",
        "\n",
        "5. Lifetime post consumptions: El número de clics en cualquier parte de una publicación​​.\n",
        "\n",
        "6. Lifetime post impressions by people who have liked a page: El número total de impresiones solo de personas que han dado \"me gusta\" a una página​​.\n",
        "\n",
        "7. Lifetime post reach by people who like a page: El número de personas que vieron una publicación de la página porque le dieron \"me gusta\" a esa página (usuarios únicos)​​.\n",
        "\n",
        "8. Lifetime people who have liked a page and engaged with a post: El número de personas que dieron \"me gusta\" a una página y que hicieron clic en cualquier parte de una publicación (usuarios únicos)​​.\n",
        "\n",
        "\n",
        "### ++++++++ Termina la sección de agregar texto. +++++++++++"
      ],
      "metadata": {
        "id": "tHWhAUezdc-E"
      }
    },
    {
      "cell_type": "markdown",
      "source": [
        "### **En esta actividad trabajarás solamente con el ajuste de modelos, por lo que la parte de procesamiento no la debes modificar. Solo haremos unos ajustes mínimos.**"
      ],
      "metadata": {
        "id": "N7aMmfvpWS2b"
      }
    },
    {
      "cell_type": "code",
      "source": [
        "# Cargamos los datos:\n",
        "\n",
        "data = pd.read_csv('dataset_Facebook.csv', sep=';', header='infer')\n",
        "\n",
        "# Separamos los datos de entrada y la variable de salida:\n",
        "X = data.iloc[:,0:7]   # Las primeras 7 columnas son las variables de entrada.\n",
        "y = data[['Lifetime Post Consumers']]   # Hay 12 variables de salida, pero solo trabajaremos con la\n",
        "                                        # que se consideró la más importante en el artículo de reporte.\n",
        "\n",
        "# Renombramos los niveles de \"Type\", para tener solo valores numéricos en el DataFrame:\n",
        "X['Type'] = X['Type'].map({'Photo':1, 'Status':2, 'Link':3, 'Video':4})\n",
        "\n",
        "# Particionamos en Train, Validation y Test en 60-20-20:\n",
        "Xtrain, Xtv, ytrain, ytv = train_test_split(X, y, train_size=0.6, shuffle=True, random_state=5)\n",
        "Xval, Xtest, yval, ytest = train_test_split(Xtv, ytv, test_size=0.5, shuffle=True, random_state=7)\n",
        "\n",
        "\n",
        "print('Train:', Xtrain.shape, ytrain.shape)\n",
        "print('Val:', Xval.shape, yval.shape)\n",
        "print('Test:', Xtest.shape, ytest.shape)"
      ],
      "metadata": {
        "id": "N6m_XqcQnCHP",
        "colab": {
          "base_uri": "https://localhost:8080/"
        },
        "outputId": "175f4ec1-2719-4563-df38-900ad89efba0"
      },
      "execution_count": null,
      "outputs": [
        {
          "output_type": "stream",
          "name": "stdout",
          "text": [
            "Train: (300, 7) (300, 1)\n",
            "Val: (100, 7) (100, 1)\n",
            "Test: (100, 7) (100, 1)\n"
          ]
        }
      ]
    },
    {
      "cell_type": "code",
      "source": [
        "Xtrain.head() # Nuestros datos de entrada"
      ],
      "metadata": {
        "id": "OQM5OUcsaXOE",
        "colab": {
          "base_uri": "https://localhost:8080/",
          "height": 206
        },
        "outputId": "5f652ed8-0274-4735-ada0-f43928b542a4"
      },
      "execution_count": null,
      "outputs": [
        {
          "output_type": "execute_result",
          "data": {
            "text/plain": [
              "     Page total likes  Type  Category  Post Month  Post Weekday  Post Hour  \\\n",
              "92             137059     1         3          11             1          3   \n",
              "45             138353     3         1          12             4          3   \n",
              "313            124940     1         3           6             7          3   \n",
              "46             138353     2         1          12             3         11   \n",
              "185            134879     1         1           9             1         10   \n",
              "\n",
              "     Paid  \n",
              "92    0.0  \n",
              "45    1.0  \n",
              "313   1.0  \n",
              "46    0.0  \n",
              "185   0.0  "
            ],
            "text/html": [
              "\n",
              "  <div id=\"df-c2a54e66-1465-4bc6-baf7-9d47c92fde57\" class=\"colab-df-container\">\n",
              "    <div>\n",
              "<style scoped>\n",
              "    .dataframe tbody tr th:only-of-type {\n",
              "        vertical-align: middle;\n",
              "    }\n",
              "\n",
              "    .dataframe tbody tr th {\n",
              "        vertical-align: top;\n",
              "    }\n",
              "\n",
              "    .dataframe thead th {\n",
              "        text-align: right;\n",
              "    }\n",
              "</style>\n",
              "<table border=\"1\" class=\"dataframe\">\n",
              "  <thead>\n",
              "    <tr style=\"text-align: right;\">\n",
              "      <th></th>\n",
              "      <th>Page total likes</th>\n",
              "      <th>Type</th>\n",
              "      <th>Category</th>\n",
              "      <th>Post Month</th>\n",
              "      <th>Post Weekday</th>\n",
              "      <th>Post Hour</th>\n",
              "      <th>Paid</th>\n",
              "    </tr>\n",
              "  </thead>\n",
              "  <tbody>\n",
              "    <tr>\n",
              "      <th>92</th>\n",
              "      <td>137059</td>\n",
              "      <td>1</td>\n",
              "      <td>3</td>\n",
              "      <td>11</td>\n",
              "      <td>1</td>\n",
              "      <td>3</td>\n",
              "      <td>0.0</td>\n",
              "    </tr>\n",
              "    <tr>\n",
              "      <th>45</th>\n",
              "      <td>138353</td>\n",
              "      <td>3</td>\n",
              "      <td>1</td>\n",
              "      <td>12</td>\n",
              "      <td>4</td>\n",
              "      <td>3</td>\n",
              "      <td>1.0</td>\n",
              "    </tr>\n",
              "    <tr>\n",
              "      <th>313</th>\n",
              "      <td>124940</td>\n",
              "      <td>1</td>\n",
              "      <td>3</td>\n",
              "      <td>6</td>\n",
              "      <td>7</td>\n",
              "      <td>3</td>\n",
              "      <td>1.0</td>\n",
              "    </tr>\n",
              "    <tr>\n",
              "      <th>46</th>\n",
              "      <td>138353</td>\n",
              "      <td>2</td>\n",
              "      <td>1</td>\n",
              "      <td>12</td>\n",
              "      <td>3</td>\n",
              "      <td>11</td>\n",
              "      <td>0.0</td>\n",
              "    </tr>\n",
              "    <tr>\n",
              "      <th>185</th>\n",
              "      <td>134879</td>\n",
              "      <td>1</td>\n",
              "      <td>1</td>\n",
              "      <td>9</td>\n",
              "      <td>1</td>\n",
              "      <td>10</td>\n",
              "      <td>0.0</td>\n",
              "    </tr>\n",
              "  </tbody>\n",
              "</table>\n",
              "</div>\n",
              "    <div class=\"colab-df-buttons\">\n",
              "\n",
              "  <div class=\"colab-df-container\">\n",
              "    <button class=\"colab-df-convert\" onclick=\"convertToInteractive('df-c2a54e66-1465-4bc6-baf7-9d47c92fde57')\"\n",
              "            title=\"Convert this dataframe to an interactive table.\"\n",
              "            style=\"display:none;\">\n",
              "\n",
              "  <svg xmlns=\"http://www.w3.org/2000/svg\" height=\"24px\" viewBox=\"0 -960 960 960\">\n",
              "    <path d=\"M120-120v-720h720v720H120Zm60-500h600v-160H180v160Zm220 220h160v-160H400v160Zm0 220h160v-160H400v160ZM180-400h160v-160H180v160Zm440 0h160v-160H620v160ZM180-180h160v-160H180v160Zm440 0h160v-160H620v160Z\"/>\n",
              "  </svg>\n",
              "    </button>\n",
              "\n",
              "  <style>\n",
              "    .colab-df-container {\n",
              "      display:flex;\n",
              "      gap: 12px;\n",
              "    }\n",
              "\n",
              "    .colab-df-convert {\n",
              "      background-color: #E8F0FE;\n",
              "      border: none;\n",
              "      border-radius: 50%;\n",
              "      cursor: pointer;\n",
              "      display: none;\n",
              "      fill: #1967D2;\n",
              "      height: 32px;\n",
              "      padding: 0 0 0 0;\n",
              "      width: 32px;\n",
              "    }\n",
              "\n",
              "    .colab-df-convert:hover {\n",
              "      background-color: #E2EBFA;\n",
              "      box-shadow: 0px 1px 2px rgba(60, 64, 67, 0.3), 0px 1px 3px 1px rgba(60, 64, 67, 0.15);\n",
              "      fill: #174EA6;\n",
              "    }\n",
              "\n",
              "    .colab-df-buttons div {\n",
              "      margin-bottom: 4px;\n",
              "    }\n",
              "\n",
              "    [theme=dark] .colab-df-convert {\n",
              "      background-color: #3B4455;\n",
              "      fill: #D2E3FC;\n",
              "    }\n",
              "\n",
              "    [theme=dark] .colab-df-convert:hover {\n",
              "      background-color: #434B5C;\n",
              "      box-shadow: 0px 1px 3px 1px rgba(0, 0, 0, 0.15);\n",
              "      filter: drop-shadow(0px 1px 2px rgba(0, 0, 0, 0.3));\n",
              "      fill: #FFFFFF;\n",
              "    }\n",
              "  </style>\n",
              "\n",
              "    <script>\n",
              "      const buttonEl =\n",
              "        document.querySelector('#df-c2a54e66-1465-4bc6-baf7-9d47c92fde57 button.colab-df-convert');\n",
              "      buttonEl.style.display =\n",
              "        google.colab.kernel.accessAllowed ? 'block' : 'none';\n",
              "\n",
              "      async function convertToInteractive(key) {\n",
              "        const element = document.querySelector('#df-c2a54e66-1465-4bc6-baf7-9d47c92fde57');\n",
              "        const dataTable =\n",
              "          await google.colab.kernel.invokeFunction('convertToInteractive',\n",
              "                                                    [key], {});\n",
              "        if (!dataTable) return;\n",
              "\n",
              "        const docLinkHtml = 'Like what you see? Visit the ' +\n",
              "          '<a target=\"_blank\" href=https://colab.research.google.com/notebooks/data_table.ipynb>data table notebook</a>'\n",
              "          + ' to learn more about interactive tables.';\n",
              "        element.innerHTML = '';\n",
              "        dataTable['output_type'] = 'display_data';\n",
              "        await google.colab.output.renderOutput(dataTable, element);\n",
              "        const docLink = document.createElement('div');\n",
              "        docLink.innerHTML = docLinkHtml;\n",
              "        element.appendChild(docLink);\n",
              "      }\n",
              "    </script>\n",
              "  </div>\n",
              "\n",
              "\n",
              "<div id=\"df-b4b4649c-7d0c-443f-8e53-2ea2d7915203\">\n",
              "  <button class=\"colab-df-quickchart\" onclick=\"quickchart('df-b4b4649c-7d0c-443f-8e53-2ea2d7915203')\"\n",
              "            title=\"Suggest charts\"\n",
              "            style=\"display:none;\">\n",
              "\n",
              "<svg xmlns=\"http://www.w3.org/2000/svg\" height=\"24px\"viewBox=\"0 0 24 24\"\n",
              "     width=\"24px\">\n",
              "    <g>\n",
              "        <path d=\"M19 3H5c-1.1 0-2 .9-2 2v14c0 1.1.9 2 2 2h14c1.1 0 2-.9 2-2V5c0-1.1-.9-2-2-2zM9 17H7v-7h2v7zm4 0h-2V7h2v10zm4 0h-2v-4h2v4z\"/>\n",
              "    </g>\n",
              "</svg>\n",
              "  </button>\n",
              "\n",
              "<style>\n",
              "  .colab-df-quickchart {\n",
              "      --bg-color: #E8F0FE;\n",
              "      --fill-color: #1967D2;\n",
              "      --hover-bg-color: #E2EBFA;\n",
              "      --hover-fill-color: #174EA6;\n",
              "      --disabled-fill-color: #AAA;\n",
              "      --disabled-bg-color: #DDD;\n",
              "  }\n",
              "\n",
              "  [theme=dark] .colab-df-quickchart {\n",
              "      --bg-color: #3B4455;\n",
              "      --fill-color: #D2E3FC;\n",
              "      --hover-bg-color: #434B5C;\n",
              "      --hover-fill-color: #FFFFFF;\n",
              "      --disabled-bg-color: #3B4455;\n",
              "      --disabled-fill-color: #666;\n",
              "  }\n",
              "\n",
              "  .colab-df-quickchart {\n",
              "    background-color: var(--bg-color);\n",
              "    border: none;\n",
              "    border-radius: 50%;\n",
              "    cursor: pointer;\n",
              "    display: none;\n",
              "    fill: var(--fill-color);\n",
              "    height: 32px;\n",
              "    padding: 0;\n",
              "    width: 32px;\n",
              "  }\n",
              "\n",
              "  .colab-df-quickchart:hover {\n",
              "    background-color: var(--hover-bg-color);\n",
              "    box-shadow: 0 1px 2px rgba(60, 64, 67, 0.3), 0 1px 3px 1px rgba(60, 64, 67, 0.15);\n",
              "    fill: var(--button-hover-fill-color);\n",
              "  }\n",
              "\n",
              "  .colab-df-quickchart-complete:disabled,\n",
              "  .colab-df-quickchart-complete:disabled:hover {\n",
              "    background-color: var(--disabled-bg-color);\n",
              "    fill: var(--disabled-fill-color);\n",
              "    box-shadow: none;\n",
              "  }\n",
              "\n",
              "  .colab-df-spinner {\n",
              "    border: 2px solid var(--fill-color);\n",
              "    border-color: transparent;\n",
              "    border-bottom-color: var(--fill-color);\n",
              "    animation:\n",
              "      spin 1s steps(1) infinite;\n",
              "  }\n",
              "\n",
              "  @keyframes spin {\n",
              "    0% {\n",
              "      border-color: transparent;\n",
              "      border-bottom-color: var(--fill-color);\n",
              "      border-left-color: var(--fill-color);\n",
              "    }\n",
              "    20% {\n",
              "      border-color: transparent;\n",
              "      border-left-color: var(--fill-color);\n",
              "      border-top-color: var(--fill-color);\n",
              "    }\n",
              "    30% {\n",
              "      border-color: transparent;\n",
              "      border-left-color: var(--fill-color);\n",
              "      border-top-color: var(--fill-color);\n",
              "      border-right-color: var(--fill-color);\n",
              "    }\n",
              "    40% {\n",
              "      border-color: transparent;\n",
              "      border-right-color: var(--fill-color);\n",
              "      border-top-color: var(--fill-color);\n",
              "    }\n",
              "    60% {\n",
              "      border-color: transparent;\n",
              "      border-right-color: var(--fill-color);\n",
              "    }\n",
              "    80% {\n",
              "      border-color: transparent;\n",
              "      border-right-color: var(--fill-color);\n",
              "      border-bottom-color: var(--fill-color);\n",
              "    }\n",
              "    90% {\n",
              "      border-color: transparent;\n",
              "      border-bottom-color: var(--fill-color);\n",
              "    }\n",
              "  }\n",
              "</style>\n",
              "\n",
              "  <script>\n",
              "    async function quickchart(key) {\n",
              "      const quickchartButtonEl =\n",
              "        document.querySelector('#' + key + ' button');\n",
              "      quickchartButtonEl.disabled = true;  // To prevent multiple clicks.\n",
              "      quickchartButtonEl.classList.add('colab-df-spinner');\n",
              "      try {\n",
              "        const charts = await google.colab.kernel.invokeFunction(\n",
              "            'suggestCharts', [key], {});\n",
              "      } catch (error) {\n",
              "        console.error('Error during call to suggestCharts:', error);\n",
              "      }\n",
              "      quickchartButtonEl.classList.remove('colab-df-spinner');\n",
              "      quickchartButtonEl.classList.add('colab-df-quickchart-complete');\n",
              "    }\n",
              "    (() => {\n",
              "      let quickchartButtonEl =\n",
              "        document.querySelector('#df-b4b4649c-7d0c-443f-8e53-2ea2d7915203 button');\n",
              "      quickchartButtonEl.style.display =\n",
              "        google.colab.kernel.accessAllowed ? 'block' : 'none';\n",
              "    })();\n",
              "  </script>\n",
              "</div>\n",
              "\n",
              "    </div>\n",
              "  </div>\n"
            ],
            "application/vnd.google.colaboratory.intrinsic+json": {
              "type": "dataframe",
              "variable_name": "Xtrain",
              "summary": "{\n  \"name\": \"Xtrain\",\n  \"rows\": 300,\n  \"fields\": [\n    {\n      \"column\": \"Page total likes\",\n      \"properties\": {\n        \"dtype\": \"number\",\n        \"std\": 16211,\n        \"min\": 81370,\n        \"max\": 139441,\n        \"num_unique_values\": 75,\n        \"samples\": [\n          125612,\n          91758,\n          86909\n        ],\n        \"semantic_type\": \"\",\n        \"description\": \"\"\n      }\n    },\n    {\n      \"column\": \"Type\",\n      \"properties\": {\n        \"dtype\": \"number\",\n        \"std\": 0,\n        \"min\": 1,\n        \"max\": 4,\n        \"num_unique_values\": 4,\n        \"samples\": [\n          3,\n          4,\n          1\n        ],\n        \"semantic_type\": \"\",\n        \"description\": \"\"\n      }\n    },\n    {\n      \"column\": \"Category\",\n      \"properties\": {\n        \"dtype\": \"number\",\n        \"std\": 0,\n        \"min\": 1,\n        \"max\": 3,\n        \"num_unique_values\": 3,\n        \"samples\": [\n          3,\n          1,\n          2\n        ],\n        \"semantic_type\": \"\",\n        \"description\": \"\"\n      }\n    },\n    {\n      \"column\": \"Post Month\",\n      \"properties\": {\n        \"dtype\": \"number\",\n        \"std\": 3,\n        \"min\": 1,\n        \"max\": 12,\n        \"num_unique_values\": 12,\n        \"samples\": [\n          10,\n          4,\n          11\n        ],\n        \"semantic_type\": \"\",\n        \"description\": \"\"\n      }\n    },\n    {\n      \"column\": \"Post Weekday\",\n      \"properties\": {\n        \"dtype\": \"number\",\n        \"std\": 2,\n        \"min\": 1,\n        \"max\": 7,\n        \"num_unique_values\": 7,\n        \"samples\": [\n          1,\n          4,\n          6\n        ],\n        \"semantic_type\": \"\",\n        \"description\": \"\"\n      }\n    },\n    {\n      \"column\": \"Post Hour\",\n      \"properties\": {\n        \"dtype\": \"number\",\n        \"std\": 4,\n        \"min\": 1,\n        \"max\": 22,\n        \"num_unique_values\": 20,\n        \"samples\": [\n          3,\n          14,\n          1\n        ],\n        \"semantic_type\": \"\",\n        \"description\": \"\"\n      }\n    },\n    {\n      \"column\": \"Paid\",\n      \"properties\": {\n        \"dtype\": \"number\",\n        \"std\": 0.4549711205861747,\n        \"min\": 0.0,\n        \"max\": 1.0,\n        \"num_unique_values\": 2,\n        \"samples\": [\n          1.0,\n          0.0\n        ],\n        \"semantic_type\": \"\",\n        \"description\": \"\"\n      }\n    }\n  ]\n}"
            }
          },
          "metadata": {},
          "execution_count": 3
        }
      ]
    },
    {
      "cell_type": "code",
      "source": [
        "Xtrain.describe().T   # veamos alguna descripción como datos numéricos"
      ],
      "metadata": {
        "id": "QGJTjTrSk9qU",
        "colab": {
          "base_uri": "https://localhost:8080/",
          "height": 269
        },
        "outputId": "c469b4a3-723b-49e8-a5b9-48f118638e5f"
      },
      "execution_count": null,
      "outputs": [
        {
          "output_type": "execute_result",
          "data": {
            "text/plain": [
              "                  count           mean           std      min        25%  \\\n",
              "Page total likes  300.0  123511.376667  16211.773474  81370.0  113028.00   \n",
              "Type              300.0       1.216667      0.580959      1.0       1.00   \n",
              "Category          300.0       1.896667      0.849546      1.0       1.00   \n",
              "Post Month        300.0       7.106667      3.306316      1.0       4.00   \n",
              "Post Weekday      300.0       4.180000      2.015226      1.0       2.75   \n",
              "Post Hour         300.0       7.546667      4.348662      1.0       3.00   \n",
              "Paid              299.0       0.290970      0.454971      0.0       0.00   \n",
              "\n",
              "                       50%       75%       max  \n",
              "Page total likes  130195.5  136393.0  139441.0  \n",
              "Type                   1.0       1.0       4.0  \n",
              "Category               2.0       3.0       3.0  \n",
              "Post Month             7.0      10.0      12.0  \n",
              "Post Weekday           4.0       6.0       7.0  \n",
              "Post Hour              8.0      11.0      22.0  \n",
              "Paid                   0.0       1.0       1.0  "
            ],
            "text/html": [
              "\n",
              "  <div id=\"df-0a784db9-965f-4369-b672-69344b068299\" class=\"colab-df-container\">\n",
              "    <div>\n",
              "<style scoped>\n",
              "    .dataframe tbody tr th:only-of-type {\n",
              "        vertical-align: middle;\n",
              "    }\n",
              "\n",
              "    .dataframe tbody tr th {\n",
              "        vertical-align: top;\n",
              "    }\n",
              "\n",
              "    .dataframe thead th {\n",
              "        text-align: right;\n",
              "    }\n",
              "</style>\n",
              "<table border=\"1\" class=\"dataframe\">\n",
              "  <thead>\n",
              "    <tr style=\"text-align: right;\">\n",
              "      <th></th>\n",
              "      <th>count</th>\n",
              "      <th>mean</th>\n",
              "      <th>std</th>\n",
              "      <th>min</th>\n",
              "      <th>25%</th>\n",
              "      <th>50%</th>\n",
              "      <th>75%</th>\n",
              "      <th>max</th>\n",
              "    </tr>\n",
              "  </thead>\n",
              "  <tbody>\n",
              "    <tr>\n",
              "      <th>Page total likes</th>\n",
              "      <td>300.0</td>\n",
              "      <td>123511.376667</td>\n",
              "      <td>16211.773474</td>\n",
              "      <td>81370.0</td>\n",
              "      <td>113028.00</td>\n",
              "      <td>130195.5</td>\n",
              "      <td>136393.0</td>\n",
              "      <td>139441.0</td>\n",
              "    </tr>\n",
              "    <tr>\n",
              "      <th>Type</th>\n",
              "      <td>300.0</td>\n",
              "      <td>1.216667</td>\n",
              "      <td>0.580959</td>\n",
              "      <td>1.0</td>\n",
              "      <td>1.00</td>\n",
              "      <td>1.0</td>\n",
              "      <td>1.0</td>\n",
              "      <td>4.0</td>\n",
              "    </tr>\n",
              "    <tr>\n",
              "      <th>Category</th>\n",
              "      <td>300.0</td>\n",
              "      <td>1.896667</td>\n",
              "      <td>0.849546</td>\n",
              "      <td>1.0</td>\n",
              "      <td>1.00</td>\n",
              "      <td>2.0</td>\n",
              "      <td>3.0</td>\n",
              "      <td>3.0</td>\n",
              "    </tr>\n",
              "    <tr>\n",
              "      <th>Post Month</th>\n",
              "      <td>300.0</td>\n",
              "      <td>7.106667</td>\n",
              "      <td>3.306316</td>\n",
              "      <td>1.0</td>\n",
              "      <td>4.00</td>\n",
              "      <td>7.0</td>\n",
              "      <td>10.0</td>\n",
              "      <td>12.0</td>\n",
              "    </tr>\n",
              "    <tr>\n",
              "      <th>Post Weekday</th>\n",
              "      <td>300.0</td>\n",
              "      <td>4.180000</td>\n",
              "      <td>2.015226</td>\n",
              "      <td>1.0</td>\n",
              "      <td>2.75</td>\n",
              "      <td>4.0</td>\n",
              "      <td>6.0</td>\n",
              "      <td>7.0</td>\n",
              "    </tr>\n",
              "    <tr>\n",
              "      <th>Post Hour</th>\n",
              "      <td>300.0</td>\n",
              "      <td>7.546667</td>\n",
              "      <td>4.348662</td>\n",
              "      <td>1.0</td>\n",
              "      <td>3.00</td>\n",
              "      <td>8.0</td>\n",
              "      <td>11.0</td>\n",
              "      <td>22.0</td>\n",
              "    </tr>\n",
              "    <tr>\n",
              "      <th>Paid</th>\n",
              "      <td>299.0</td>\n",
              "      <td>0.290970</td>\n",
              "      <td>0.454971</td>\n",
              "      <td>0.0</td>\n",
              "      <td>0.00</td>\n",
              "      <td>0.0</td>\n",
              "      <td>1.0</td>\n",
              "      <td>1.0</td>\n",
              "    </tr>\n",
              "  </tbody>\n",
              "</table>\n",
              "</div>\n",
              "    <div class=\"colab-df-buttons\">\n",
              "\n",
              "  <div class=\"colab-df-container\">\n",
              "    <button class=\"colab-df-convert\" onclick=\"convertToInteractive('df-0a784db9-965f-4369-b672-69344b068299')\"\n",
              "            title=\"Convert this dataframe to an interactive table.\"\n",
              "            style=\"display:none;\">\n",
              "\n",
              "  <svg xmlns=\"http://www.w3.org/2000/svg\" height=\"24px\" viewBox=\"0 -960 960 960\">\n",
              "    <path d=\"M120-120v-720h720v720H120Zm60-500h600v-160H180v160Zm220 220h160v-160H400v160Zm0 220h160v-160H400v160ZM180-400h160v-160H180v160Zm440 0h160v-160H620v160ZM180-180h160v-160H180v160Zm440 0h160v-160H620v160Z\"/>\n",
              "  </svg>\n",
              "    </button>\n",
              "\n",
              "  <style>\n",
              "    .colab-df-container {\n",
              "      display:flex;\n",
              "      gap: 12px;\n",
              "    }\n",
              "\n",
              "    .colab-df-convert {\n",
              "      background-color: #E8F0FE;\n",
              "      border: none;\n",
              "      border-radius: 50%;\n",
              "      cursor: pointer;\n",
              "      display: none;\n",
              "      fill: #1967D2;\n",
              "      height: 32px;\n",
              "      padding: 0 0 0 0;\n",
              "      width: 32px;\n",
              "    }\n",
              "\n",
              "    .colab-df-convert:hover {\n",
              "      background-color: #E2EBFA;\n",
              "      box-shadow: 0px 1px 2px rgba(60, 64, 67, 0.3), 0px 1px 3px 1px rgba(60, 64, 67, 0.15);\n",
              "      fill: #174EA6;\n",
              "    }\n",
              "\n",
              "    .colab-df-buttons div {\n",
              "      margin-bottom: 4px;\n",
              "    }\n",
              "\n",
              "    [theme=dark] .colab-df-convert {\n",
              "      background-color: #3B4455;\n",
              "      fill: #D2E3FC;\n",
              "    }\n",
              "\n",
              "    [theme=dark] .colab-df-convert:hover {\n",
              "      background-color: #434B5C;\n",
              "      box-shadow: 0px 1px 3px 1px rgba(0, 0, 0, 0.15);\n",
              "      filter: drop-shadow(0px 1px 2px rgba(0, 0, 0, 0.3));\n",
              "      fill: #FFFFFF;\n",
              "    }\n",
              "  </style>\n",
              "\n",
              "    <script>\n",
              "      const buttonEl =\n",
              "        document.querySelector('#df-0a784db9-965f-4369-b672-69344b068299 button.colab-df-convert');\n",
              "      buttonEl.style.display =\n",
              "        google.colab.kernel.accessAllowed ? 'block' : 'none';\n",
              "\n",
              "      async function convertToInteractive(key) {\n",
              "        const element = document.querySelector('#df-0a784db9-965f-4369-b672-69344b068299');\n",
              "        const dataTable =\n",
              "          await google.colab.kernel.invokeFunction('convertToInteractive',\n",
              "                                                    [key], {});\n",
              "        if (!dataTable) return;\n",
              "\n",
              "        const docLinkHtml = 'Like what you see? Visit the ' +\n",
              "          '<a target=\"_blank\" href=https://colab.research.google.com/notebooks/data_table.ipynb>data table notebook</a>'\n",
              "          + ' to learn more about interactive tables.';\n",
              "        element.innerHTML = '';\n",
              "        dataTable['output_type'] = 'display_data';\n",
              "        await google.colab.output.renderOutput(dataTable, element);\n",
              "        const docLink = document.createElement('div');\n",
              "        docLink.innerHTML = docLinkHtml;\n",
              "        element.appendChild(docLink);\n",
              "      }\n",
              "    </script>\n",
              "  </div>\n",
              "\n",
              "\n",
              "<div id=\"df-43ce7071-f876-47a4-8701-c42a436c6296\">\n",
              "  <button class=\"colab-df-quickchart\" onclick=\"quickchart('df-43ce7071-f876-47a4-8701-c42a436c6296')\"\n",
              "            title=\"Suggest charts\"\n",
              "            style=\"display:none;\">\n",
              "\n",
              "<svg xmlns=\"http://www.w3.org/2000/svg\" height=\"24px\"viewBox=\"0 0 24 24\"\n",
              "     width=\"24px\">\n",
              "    <g>\n",
              "        <path d=\"M19 3H5c-1.1 0-2 .9-2 2v14c0 1.1.9 2 2 2h14c1.1 0 2-.9 2-2V5c0-1.1-.9-2-2-2zM9 17H7v-7h2v7zm4 0h-2V7h2v10zm4 0h-2v-4h2v4z\"/>\n",
              "    </g>\n",
              "</svg>\n",
              "  </button>\n",
              "\n",
              "<style>\n",
              "  .colab-df-quickchart {\n",
              "      --bg-color: #E8F0FE;\n",
              "      --fill-color: #1967D2;\n",
              "      --hover-bg-color: #E2EBFA;\n",
              "      --hover-fill-color: #174EA6;\n",
              "      --disabled-fill-color: #AAA;\n",
              "      --disabled-bg-color: #DDD;\n",
              "  }\n",
              "\n",
              "  [theme=dark] .colab-df-quickchart {\n",
              "      --bg-color: #3B4455;\n",
              "      --fill-color: #D2E3FC;\n",
              "      --hover-bg-color: #434B5C;\n",
              "      --hover-fill-color: #FFFFFF;\n",
              "      --disabled-bg-color: #3B4455;\n",
              "      --disabled-fill-color: #666;\n",
              "  }\n",
              "\n",
              "  .colab-df-quickchart {\n",
              "    background-color: var(--bg-color);\n",
              "    border: none;\n",
              "    border-radius: 50%;\n",
              "    cursor: pointer;\n",
              "    display: none;\n",
              "    fill: var(--fill-color);\n",
              "    height: 32px;\n",
              "    padding: 0;\n",
              "    width: 32px;\n",
              "  }\n",
              "\n",
              "  .colab-df-quickchart:hover {\n",
              "    background-color: var(--hover-bg-color);\n",
              "    box-shadow: 0 1px 2px rgba(60, 64, 67, 0.3), 0 1px 3px 1px rgba(60, 64, 67, 0.15);\n",
              "    fill: var(--button-hover-fill-color);\n",
              "  }\n",
              "\n",
              "  .colab-df-quickchart-complete:disabled,\n",
              "  .colab-df-quickchart-complete:disabled:hover {\n",
              "    background-color: var(--disabled-bg-color);\n",
              "    fill: var(--disabled-fill-color);\n",
              "    box-shadow: none;\n",
              "  }\n",
              "\n",
              "  .colab-df-spinner {\n",
              "    border: 2px solid var(--fill-color);\n",
              "    border-color: transparent;\n",
              "    border-bottom-color: var(--fill-color);\n",
              "    animation:\n",
              "      spin 1s steps(1) infinite;\n",
              "  }\n",
              "\n",
              "  @keyframes spin {\n",
              "    0% {\n",
              "      border-color: transparent;\n",
              "      border-bottom-color: var(--fill-color);\n",
              "      border-left-color: var(--fill-color);\n",
              "    }\n",
              "    20% {\n",
              "      border-color: transparent;\n",
              "      border-left-color: var(--fill-color);\n",
              "      border-top-color: var(--fill-color);\n",
              "    }\n",
              "    30% {\n",
              "      border-color: transparent;\n",
              "      border-left-color: var(--fill-color);\n",
              "      border-top-color: var(--fill-color);\n",
              "      border-right-color: var(--fill-color);\n",
              "    }\n",
              "    40% {\n",
              "      border-color: transparent;\n",
              "      border-right-color: var(--fill-color);\n",
              "      border-top-color: var(--fill-color);\n",
              "    }\n",
              "    60% {\n",
              "      border-color: transparent;\n",
              "      border-right-color: var(--fill-color);\n",
              "    }\n",
              "    80% {\n",
              "      border-color: transparent;\n",
              "      border-right-color: var(--fill-color);\n",
              "      border-bottom-color: var(--fill-color);\n",
              "    }\n",
              "    90% {\n",
              "      border-color: transparent;\n",
              "      border-bottom-color: var(--fill-color);\n",
              "    }\n",
              "  }\n",
              "</style>\n",
              "\n",
              "  <script>\n",
              "    async function quickchart(key) {\n",
              "      const quickchartButtonEl =\n",
              "        document.querySelector('#' + key + ' button');\n",
              "      quickchartButtonEl.disabled = true;  // To prevent multiple clicks.\n",
              "      quickchartButtonEl.classList.add('colab-df-spinner');\n",
              "      try {\n",
              "        const charts = await google.colab.kernel.invokeFunction(\n",
              "            'suggestCharts', [key], {});\n",
              "      } catch (error) {\n",
              "        console.error('Error during call to suggestCharts:', error);\n",
              "      }\n",
              "      quickchartButtonEl.classList.remove('colab-df-spinner');\n",
              "      quickchartButtonEl.classList.add('colab-df-quickchart-complete');\n",
              "    }\n",
              "    (() => {\n",
              "      let quickchartButtonEl =\n",
              "        document.querySelector('#df-43ce7071-f876-47a4-8701-c42a436c6296 button');\n",
              "      quickchartButtonEl.style.display =\n",
              "        google.colab.kernel.accessAllowed ? 'block' : 'none';\n",
              "    })();\n",
              "  </script>\n",
              "</div>\n",
              "\n",
              "    </div>\n",
              "  </div>\n"
            ],
            "application/vnd.google.colaboratory.intrinsic+json": {
              "type": "dataframe",
              "summary": "{\n  \"name\": \"Xtrain\",\n  \"rows\": 7,\n  \"fields\": [\n    {\n      \"column\": \"count\",\n      \"properties\": {\n        \"dtype\": \"number\",\n        \"std\": 0.3779644730092272,\n        \"min\": 299.0,\n        \"max\": 300.0,\n        \"num_unique_values\": 2,\n        \"samples\": [\n          299.0,\n          300.0\n        ],\n        \"semantic_type\": \"\",\n        \"description\": \"\"\n      }\n    },\n    {\n      \"column\": \"mean\",\n      \"properties\": {\n        \"dtype\": \"number\",\n        \"std\": 46681.51163813285,\n        \"min\": 0.2909698996655518,\n        \"max\": 123511.37666666666,\n        \"num_unique_values\": 7,\n        \"samples\": [\n          123511.37666666666,\n          1.2166666666666666\n        ],\n        \"semantic_type\": \"\",\n        \"description\": \"\"\n      }\n    },\n    {\n      \"column\": \"std\",\n      \"properties\": {\n        \"dtype\": \"number\",\n        \"std\": 6126.74665391166,\n        \"min\": 0.4549711205861747,\n        \"max\": 16211.77347419825,\n        \"num_unique_values\": 7,\n        \"samples\": [\n          16211.77347419825,\n          0.5809594954383844\n        ],\n        \"semantic_type\": \"\",\n        \"description\": \"\"\n      }\n    },\n    {\n      \"column\": \"min\",\n      \"properties\": {\n        \"dtype\": \"number\",\n        \"std\": 30754.65420062466,\n        \"min\": 0.0,\n        \"max\": 81370.0,\n        \"num_unique_values\": 3,\n        \"samples\": [\n          81370.0,\n          1.0\n        ],\n        \"semantic_type\": \"\",\n        \"description\": \"\"\n      }\n    },\n    {\n      \"column\": \"25%\",\n      \"properties\": {\n        \"dtype\": \"number\",\n        \"std\": 42719.828297395215,\n        \"min\": 0.0,\n        \"max\": 113028.0,\n        \"num_unique_values\": 6,\n        \"samples\": [\n          113028.0,\n          1.0\n        ],\n        \"semantic_type\": \"\",\n        \"description\": \"\"\n      }\n    },\n    {\n      \"column\": \"50%\",\n      \"properties\": {\n        \"dtype\": \"number\",\n        \"std\": 49207.88776625823,\n        \"min\": 0.0,\n        \"max\": 130195.5,\n        \"num_unique_values\": 7,\n        \"samples\": [\n          130195.5,\n          1.0\n        ],\n        \"semantic_type\": \"\",\n        \"description\": \"\"\n      }\n    },\n    {\n      \"column\": \"75%\",\n      \"properties\": {\n        \"dtype\": \"number\",\n        \"std\": 51549.6927139703,\n        \"min\": 1.0,\n        \"max\": 136393.0,\n        \"num_unique_values\": 6,\n        \"samples\": [\n          136393.0,\n          1.0\n        ],\n        \"semantic_type\": \"\",\n        \"description\": \"\"\n      }\n    },\n    {\n      \"column\": \"max\",\n      \"properties\": {\n        \"dtype\": \"number\",\n        \"std\": 52700.65784987436,\n        \"min\": 1.0,\n        \"max\": 139441.0,\n        \"num_unique_values\": 7,\n        \"samples\": [\n          139441.0,\n          4.0\n        ],\n        \"semantic_type\": \"\",\n        \"description\": \"\"\n      }\n    }\n  ]\n}"
            }
          },
          "metadata": {},
          "execution_count": 4
        }
      ]
    },
    {
      "cell_type": "code",
      "source": [
        "ytrain.describe().T   # lo mismo para la variable de salida"
      ],
      "metadata": {
        "id": "-T2adW4ElGQN",
        "colab": {
          "base_uri": "https://localhost:8080/",
          "height": 81
        },
        "outputId": "eb1bb9f5-b823-4531-a026-3e685272a0fb"
      },
      "execution_count": null,
      "outputs": [
        {
          "output_type": "execute_result",
          "data": {
            "text/plain": [
              "                         count        mean          std  min     25%    50%  \\\n",
              "Lifetime Post Consumers  300.0  827.986667  1009.102992  9.0  321.25  543.5   \n",
              "\n",
              "                             75%      max  \n",
              "Lifetime Post Consumers  1008.75  11328.0  "
            ],
            "text/html": [
              "\n",
              "  <div id=\"df-588cff22-d2a4-4504-9d26-83f39309c890\" class=\"colab-df-container\">\n",
              "    <div>\n",
              "<style scoped>\n",
              "    .dataframe tbody tr th:only-of-type {\n",
              "        vertical-align: middle;\n",
              "    }\n",
              "\n",
              "    .dataframe tbody tr th {\n",
              "        vertical-align: top;\n",
              "    }\n",
              "\n",
              "    .dataframe thead th {\n",
              "        text-align: right;\n",
              "    }\n",
              "</style>\n",
              "<table border=\"1\" class=\"dataframe\">\n",
              "  <thead>\n",
              "    <tr style=\"text-align: right;\">\n",
              "      <th></th>\n",
              "      <th>count</th>\n",
              "      <th>mean</th>\n",
              "      <th>std</th>\n",
              "      <th>min</th>\n",
              "      <th>25%</th>\n",
              "      <th>50%</th>\n",
              "      <th>75%</th>\n",
              "      <th>max</th>\n",
              "    </tr>\n",
              "  </thead>\n",
              "  <tbody>\n",
              "    <tr>\n",
              "      <th>Lifetime Post Consumers</th>\n",
              "      <td>300.0</td>\n",
              "      <td>827.986667</td>\n",
              "      <td>1009.102992</td>\n",
              "      <td>9.0</td>\n",
              "      <td>321.25</td>\n",
              "      <td>543.5</td>\n",
              "      <td>1008.75</td>\n",
              "      <td>11328.0</td>\n",
              "    </tr>\n",
              "  </tbody>\n",
              "</table>\n",
              "</div>\n",
              "    <div class=\"colab-df-buttons\">\n",
              "\n",
              "  <div class=\"colab-df-container\">\n",
              "    <button class=\"colab-df-convert\" onclick=\"convertToInteractive('df-588cff22-d2a4-4504-9d26-83f39309c890')\"\n",
              "            title=\"Convert this dataframe to an interactive table.\"\n",
              "            style=\"display:none;\">\n",
              "\n",
              "  <svg xmlns=\"http://www.w3.org/2000/svg\" height=\"24px\" viewBox=\"0 -960 960 960\">\n",
              "    <path d=\"M120-120v-720h720v720H120Zm60-500h600v-160H180v160Zm220 220h160v-160H400v160Zm0 220h160v-160H400v160ZM180-400h160v-160H180v160Zm440 0h160v-160H620v160ZM180-180h160v-160H180v160Zm440 0h160v-160H620v160Z\"/>\n",
              "  </svg>\n",
              "    </button>\n",
              "\n",
              "  <style>\n",
              "    .colab-df-container {\n",
              "      display:flex;\n",
              "      gap: 12px;\n",
              "    }\n",
              "\n",
              "    .colab-df-convert {\n",
              "      background-color: #E8F0FE;\n",
              "      border: none;\n",
              "      border-radius: 50%;\n",
              "      cursor: pointer;\n",
              "      display: none;\n",
              "      fill: #1967D2;\n",
              "      height: 32px;\n",
              "      padding: 0 0 0 0;\n",
              "      width: 32px;\n",
              "    }\n",
              "\n",
              "    .colab-df-convert:hover {\n",
              "      background-color: #E2EBFA;\n",
              "      box-shadow: 0px 1px 2px rgba(60, 64, 67, 0.3), 0px 1px 3px 1px rgba(60, 64, 67, 0.15);\n",
              "      fill: #174EA6;\n",
              "    }\n",
              "\n",
              "    .colab-df-buttons div {\n",
              "      margin-bottom: 4px;\n",
              "    }\n",
              "\n",
              "    [theme=dark] .colab-df-convert {\n",
              "      background-color: #3B4455;\n",
              "      fill: #D2E3FC;\n",
              "    }\n",
              "\n",
              "    [theme=dark] .colab-df-convert:hover {\n",
              "      background-color: #434B5C;\n",
              "      box-shadow: 0px 1px 3px 1px rgba(0, 0, 0, 0.15);\n",
              "      filter: drop-shadow(0px 1px 2px rgba(0, 0, 0, 0.3));\n",
              "      fill: #FFFFFF;\n",
              "    }\n",
              "  </style>\n",
              "\n",
              "    <script>\n",
              "      const buttonEl =\n",
              "        document.querySelector('#df-588cff22-d2a4-4504-9d26-83f39309c890 button.colab-df-convert');\n",
              "      buttonEl.style.display =\n",
              "        google.colab.kernel.accessAllowed ? 'block' : 'none';\n",
              "\n",
              "      async function convertToInteractive(key) {\n",
              "        const element = document.querySelector('#df-588cff22-d2a4-4504-9d26-83f39309c890');\n",
              "        const dataTable =\n",
              "          await google.colab.kernel.invokeFunction('convertToInteractive',\n",
              "                                                    [key], {});\n",
              "        if (!dataTable) return;\n",
              "\n",
              "        const docLinkHtml = 'Like what you see? Visit the ' +\n",
              "          '<a target=\"_blank\" href=https://colab.research.google.com/notebooks/data_table.ipynb>data table notebook</a>'\n",
              "          + ' to learn more about interactive tables.';\n",
              "        element.innerHTML = '';\n",
              "        dataTable['output_type'] = 'display_data';\n",
              "        await google.colab.output.renderOutput(dataTable, element);\n",
              "        const docLink = document.createElement('div');\n",
              "        docLink.innerHTML = docLinkHtml;\n",
              "        element.appendChild(docLink);\n",
              "      }\n",
              "    </script>\n",
              "  </div>\n",
              "\n",
              "\n",
              "    </div>\n",
              "  </div>\n"
            ],
            "application/vnd.google.colaboratory.intrinsic+json": {
              "type": "dataframe",
              "summary": "{\n  \"name\": \"ytrain\",\n  \"rows\": 1,\n  \"fields\": [\n    {\n      \"column\": \"count\",\n      \"properties\": {\n        \"dtype\": \"number\",\n        \"std\": null,\n        \"min\": 300.0,\n        \"max\": 300.0,\n        \"num_unique_values\": 1,\n        \"samples\": [\n          300.0\n        ],\n        \"semantic_type\": \"\",\n        \"description\": \"\"\n      }\n    },\n    {\n      \"column\": \"mean\",\n      \"properties\": {\n        \"dtype\": \"number\",\n        \"std\": null,\n        \"min\": 827.9866666666667,\n        \"max\": 827.9866666666667,\n        \"num_unique_values\": 1,\n        \"samples\": [\n          827.9866666666667\n        ],\n        \"semantic_type\": \"\",\n        \"description\": \"\"\n      }\n    },\n    {\n      \"column\": \"std\",\n      \"properties\": {\n        \"dtype\": \"number\",\n        \"std\": null,\n        \"min\": 1009.102992424438,\n        \"max\": 1009.102992424438,\n        \"num_unique_values\": 1,\n        \"samples\": [\n          1009.102992424438\n        ],\n        \"semantic_type\": \"\",\n        \"description\": \"\"\n      }\n    },\n    {\n      \"column\": \"min\",\n      \"properties\": {\n        \"dtype\": \"number\",\n        \"std\": null,\n        \"min\": 9.0,\n        \"max\": 9.0,\n        \"num_unique_values\": 1,\n        \"samples\": [\n          9.0\n        ],\n        \"semantic_type\": \"\",\n        \"description\": \"\"\n      }\n    },\n    {\n      \"column\": \"25%\",\n      \"properties\": {\n        \"dtype\": \"number\",\n        \"std\": null,\n        \"min\": 321.25,\n        \"max\": 321.25,\n        \"num_unique_values\": 1,\n        \"samples\": [\n          321.25\n        ],\n        \"semantic_type\": \"\",\n        \"description\": \"\"\n      }\n    },\n    {\n      \"column\": \"50%\",\n      \"properties\": {\n        \"dtype\": \"number\",\n        \"std\": null,\n        \"min\": 543.5,\n        \"max\": 543.5,\n        \"num_unique_values\": 1,\n        \"samples\": [\n          543.5\n        ],\n        \"semantic_type\": \"\",\n        \"description\": \"\"\n      }\n    },\n    {\n      \"column\": \"75%\",\n      \"properties\": {\n        \"dtype\": \"number\",\n        \"std\": null,\n        \"min\": 1008.75,\n        \"max\": 1008.75,\n        \"num_unique_values\": 1,\n        \"samples\": [\n          1008.75\n        ],\n        \"semantic_type\": \"\",\n        \"description\": \"\"\n      }\n    },\n    {\n      \"column\": \"max\",\n      \"properties\": {\n        \"dtype\": \"number\",\n        \"std\": null,\n        \"min\": 11328.0,\n        \"max\": 11328.0,\n        \"num_unique_values\": 1,\n        \"samples\": [\n          11328.0\n        ],\n        \"semantic_type\": \"\",\n        \"description\": \"\"\n      }\n    }\n  ]\n}"
            }
          },
          "metadata": {},
          "execution_count": 6
        }
      ]
    },
    {
      "cell_type": "code",
      "source": [
        "ytrainlog = np.log(ytrain)   # Recordemos que nuestra variable de salida en un problema\n",
        "ytrainlog.hist();            # de Regresión se recomienda que esté aproximadamente\n",
        "                             # acampanada, por lo que la ajustaremos con el logaritmo\n",
        "                             # natural como primera aproximación."
      ],
      "metadata": {
        "id": "dl3MRrQ9cEeb",
        "colab": {
          "base_uri": "https://localhost:8080/",
          "height": 452
        },
        "outputId": "ce9f5d1e-28c3-4308-9a2e-8bdae273da3d"
      },
      "execution_count": null,
      "outputs": [
        {
          "output_type": "display_data",
          "data": {
            "text/plain": [
              "<Figure size 640x480 with 1 Axes>"
            ],
            "image/png": "[encoded data removed]"
          },
          "metadata": {}
        }
      ]
    },
    {
      "cell_type": "code",
      "source": [
        "# y procedemos de la misma manera con Val y test:\n",
        "yvallog = np.log(yval)\n",
        "ytestlog = np.log(ytest)"
      ],
      "metadata": {
        "id": "R9AEIQJTiEVE"
      },
      "execution_count": null,
      "outputs": []
    },
    {
      "cell_type": "code",
      "source": [
        "# Apliaremos lo mínimo de transformaciones, en particular para datos perdidos:\n",
        "# Como solo tenemos una numérica, la podemos dejar sin escalar:\n",
        "num_pipe = Pipeline(steps = [('numImp', SimpleImputer(strategy='median')),\n",
        "                             ])\n",
        "num_pipe_nombres = [0]   # ['Page total likes']\n",
        "\n",
        "\n",
        "# Las ordinales las identificamos como tales:\n",
        "ord_pipe = Pipeline(steps =  [('OrdImp', SimpleImputer(strategy='most_frequent')),\n",
        "                              ('Ordfun', OrdinalEncoder(handle_unknown='use_encoded_value', unknown_value=-1 ))\n",
        "                              ])\n",
        "ord_pipe_nombres = [3,4,5]   # ['Post Month', 'Post Weekday', 'Post Hour']\n",
        "\n",
        "# Las nominales las transformamos con One-Hot-Encoder:\n",
        "nom_pipe = Pipeline(steps = [('ohe', OneHotEncoder(drop='first',\n",
        "                                                   handle_unknown='ignore',\n",
        "                                                   ))])\n",
        "nom_pipe_nombres = [1,2,6]   # ['Type', 'Category', 'Paid']\n",
        "\n",
        "\n",
        "# Conjuntamos las transformaciones que aplicaremos:\n",
        "columnasTransformer = ColumnTransformer(transformers = [('numpow', num_pipe, num_pipe_nombres),\n",
        "                                                        ('catOrd', ord_pipe, ord_pipe_nombres),\n",
        "                                                        ('catNom', nom_pipe, nom_pipe_nombres)\n",
        "                                                        ],\n",
        "                                        remainder='passthrough')\n",
        "\n",
        "\n",
        "# Ajustamos en Train y transformamos en Val y Test:\n",
        "XtrainFit = columnasTransformer.fit(Xtrain)\n",
        "XtrainT = XtrainFit.transform(Xtrain)\n",
        "XvalT  =  XtrainFit.transform(Xval)\n",
        "XtestT  =  XtrainFit.transform(Xtest)"
      ],
      "metadata": {
        "id": "XmT5gvLjpu4J"
      },
      "execution_count": null,
      "outputs": []
    },
    {
      "cell_type": "code",
      "source": [
        "# El valor de RMSE-Root-Mean-Square-Error, se utiliza para medir el desempeño\n",
        "# mínimo que debiera obtener un modelo de regresión, es decir, este valor\n",
        "# se toma usualmente como el valor del modelo subentrenado y se compara generalmente\n",
        "# con el valor de la desviación estándar de la variable de salida, ya sea que la\n",
        "# estés tomando de manera original o con los datos transformados.\n",
        "# Veamos el valor de ambas:\n",
        "\n",
        "print('Desv-Est y-original: %.3f' % ytrain.values.std())\n",
        "print('Desv-Est y-logaritmo: %.3f' % ytrainlog.values.std())"
      ],
      "metadata": {
        "id": "yPTioK_D2z9p",
        "colab": {
          "base_uri": "https://localhost:8080/"
        },
        "outputId": "440f4375-3c22-478a-970f-3cbb14585933"
      },
      "execution_count": null,
      "outputs": [
        {
          "output_type": "stream",
          "name": "stdout",
          "text": [
            "Desv-Est y-original: 1007.420\n",
            "Desv-Est y-logaritmo: 0.906\n"
          ]
        }
      ]
    },
    {
      "cell_type": "markdown",
      "source": [
        "## **Ejercicio 3**\n"
      ],
      "metadata": {
        "id": "a4Ka79ZTyM0_"
      }
    },
    {
      "cell_type": "code",
      "source": [
        "# Al ejecutar las siguientes líneas de código determina si el modelo de\n",
        "# Bosque Aleatorio con sus valores de hiperparámetros predeterminadas está\n",
        "# Subentrenado o Sobreentrenado. De ser así, busca los valores de sus\n",
        "# hiperparámetros que consideres más adecuados para que ya no\n",
        "# esté sub-o-sobreentrenado:\n",
        "\n",
        "\n",
        "# ++++++++++++++ Incluye aquí tus ajustes ++++++++++++++++++++++++++++++\n",
        "\n",
        "elmodelo_RF = RandomForestRegressor(n_estimators=100, max_depth=10, max_features='sqrt')\n",
        "\n",
        "# +++++++++++++ Tesrmina sección de realizar ajustes +++++++++++++++++++++\n",
        "\n",
        "\n",
        "\n",
        "mipipe = Pipeline(steps=[('ct',columnasTransformer),('m', elmodelo_RF)])\n",
        "\n",
        "train_sizes, train_scores, val_scores = learning_curve(estimator=mipipe,\n",
        "                                                        X=XtrainT,\n",
        "                                                        y=np.ravel(ytrainlog),\n",
        "                                                        cv=5,\n",
        "                                                        train_sizes= np.linspace(0.1, 1.0, 10),\n",
        "                                                        scoring= 'neg_mean_squared_error',  # error MSE\n",
        "                                                        n_jobs=-1)\n",
        "\n",
        "\n",
        "\n",
        "# Calculamos los promedios y desviación estándar de entrenamiento para RMSE,\n",
        "# como tenemos los de MSE, debemos obtener su raíz cuadrada. El negativo es porque\n",
        "# sklearn nos devuelve en realidad el negativo del Error Cuadrático Medio MSE:\n",
        "\n",
        "rmse_train_scores = np.sqrt(-train_scores)\n",
        "rmse_val_scores = np.sqrt(-val_scores)\n",
        "\n",
        "train_mean = np.mean(rmse_train_scores, axis=1)\n",
        "train_std = np.std(rmse_train_scores, axis=1)\n",
        "val_mean = np.mean(rmse_val_scores, axis=1)\n",
        "val_std = np.std(rmse_val_scores, axis=1)\n",
        "\n",
        "\n",
        "plt.plot(train_sizes, train_mean, color='blue', marker='o', markersize=5, label='Training Accuracy')\n",
        "plt.fill_between(train_sizes, train_mean + train_std, train_mean - train_std, alpha=0.15, color='blue')\n",
        "\n",
        "plt.plot(train_sizes, val_mean, color='green', marker='+', markersize=5, linestyle='--', label='Validation Accuracy')\n",
        "plt.fill_between(train_sizes, val_mean + val_std, val_mean - val_std, alpha=0.15, color='green')\n",
        "\n",
        "plt.title('Learning Curve')\n",
        "plt.xlabel('Training Data Size')\n",
        "plt.ylabel('Model accuracy')\n",
        "plt.grid()\n",
        "plt.legend(loc='lower right')\n",
        "plt.show()\n"
      ],
      "metadata": {
        "colab": {
          "base_uri": "https://localhost:8080/",
          "height": 472
        },
        "id": "CDZE2WUXavLg",
        "outputId": "06467df4-bf1e-4081-f003-564a58881571"
      },
      "execution_count": null,
      "outputs": [
        {
          "output_type": "display_data",
          "data": {
            "text/plain": [
              "<Figure size 640x480 with 1 Axes>"
            ],
            "image/png": "[encoded data removed]"
          },
          "metadata": {}
        }
      ]
    },
    {
      "cell_type": "code",
      "source": [
        "# Una vez que verifiquemos que no está sobreentrenado o subentrenado el modelo,\n",
        "# podemos calcular el RMSE del mejor ajuste con los datos de Prueba.\n",
        "# Incluye los valores de los nejores hiperparámetros encontrados del RandomForest:\n",
        "\n",
        "# ++++++++++++++ Incluye aquí tus ajustes ++++++++++++++++++++++++++++++\n",
        "\n",
        "elmodelo_RF = RandomForestRegressor(n_estimators=100, max_depth=10, max_features='sqrt')\n",
        "\n",
        "# +++++++++++++ Tesrmina sección de realizar ajustes +++++++++++++++++++++\n",
        "\n",
        "mipipe = Pipeline(steps=[('ct',columnasTransformer),('m', elmodelo_RF)])\n",
        "mipipe.fit(Xtrain, np.ravel(ytrainlog))\n",
        "yhattest_RF = mipipe.predict(Xtest)\n",
        "\n",
        "print('Error RSME(Test) de Random Forest: %.3f' % np.sqrt(mean_squared_error(np.ravel(ytestlog), yhattest_RF)))"
      ],
      "metadata": {
        "id": "5yEGf3-ft3cO",
        "colab": {
          "base_uri": "https://localhost:8080/"
        },
        "outputId": "780a6090-ce3f-4c60-d404-64c43fa1b2d7"
      },
      "execution_count": null,
      "outputs": [
        {
          "output_type": "stream",
          "name": "stdout",
          "text": [
            "Error RSME(Test) de Random Forest: 0.735\n"
          ]
        }
      ]
    },
    {
      "cell_type": "markdown",
      "source": [
        "## **Ejercicio 4**"
      ],
      "metadata": {
        "id": "HKwEq8z-zS7G"
      }
    },
    {
      "cell_type": "markdown",
      "source": [
        "### **Repite el mismo proceso del Ejercicio 3 anterior para obtener los hiperparámetros que nos lleven a casos de modelos no subentrenados o sobreentrenaos, en cada uno de los siguientes casos:**\n",
        "\n",
        "*   **a. Extreme Gradient Boost XGBoost**\n",
        "*   **b. Máquina de Vector Soporte SVM**\n",
        "*   **c. Red Neuronal Perceptrón Multicapa MLP**"
      ],
      "metadata": {
        "id": "hLd2iTBMzZ93"
      }
    },
    {
      "cell_type": "code",
      "source": [
        "\n",
        "# Modelo inicial con XGBoost\n",
        "learning_rate = 0.1\n",
        "n_estimators = 100\n",
        "elmodelo_XGB = XGBRegressor(learning_rate=learning_rate, n_estimators=n_estimators)\n",
        "\n",
        "mipipe = Pipeline(steps=[('ct', columnasTransformer), ('m', elmodelo_XGB)])\n",
        "\n",
        "train_sizes, train_scores, val_scores = learning_curve(estimator=mipipe,\n",
        "                                                        X=XtrainT,\n",
        "                                                        y=np.ravel(ytrainlog),\n",
        "                                                        cv=5,\n",
        "                                                        train_sizes=np.linspace(0.1, 1.0, 10),\n",
        "                                                        scoring='neg_mean_squared_error',\n",
        "                                                        n_jobs=-1)\n",
        "\n",
        "# Calculamos RMSE\n",
        "rmse_train_scores = np.sqrt(-train_scores)\n",
        "rmse_val_scores = np.sqrt(-val_scores)\n",
        "\n",
        "train_mean = np.mean(rmse_train_scores, axis=1)\n",
        "train_std = np.std(rmse_train_scores, axis=1)\n",
        "val_mean = np.mean(rmse_val_scores, axis=1)\n",
        "val_std = np.std(rmse_val_scores, axis=1)\n",
        "\n",
        "plt.plot(train_sizes, train_mean, color='blue', marker='o', markersize=5, label='Training Accuracy')\n",
        "plt.fill_between(train_sizes, train_mean + train_std, train_mean - train_std, alpha=0.15, color='blue')\n",
        "\n",
        "plt.plot(train_sizes, val_mean, color='green', marker='+', markersize=5, linestyle='--', label='Validation Accuracy')\n",
        "plt.fill_between(train_sizes, val_mean + val_std, val_mean - val_std, alpha=0.15, color='green')\n",
        "\n",
        "plt.title('Learning Curve - XGBoost')\n",
        "plt.xlabel('Training Data Size')\n",
        "plt.ylabel('Model accuracy')\n",
        "plt.grid()\n",
        "plt.legend(loc='lower right')\n",
        "plt.show()\n",
        "\n",
        "# Ajuste de hiperparámetros para XGBoost si es necesario\n",
        "elmodelo_XGB_ajustado = XGBRegressor(n_estimators=200, learning_rate=0.05, max_depth=6, subsample=0.8, colsample_bytree=0.8)\n"
      ],
      "metadata": {
        "id": "uIuE5qYYvhkJ",
        "colab": {
          "base_uri": "https://localhost:8080/",
          "height": 472
        },
        "outputId": "442ac9f1-af1d-4fe8-c18a-f426f8fda5a4"
      },
      "execution_count": null,
      "outputs": [
        {
          "output_type": "display_data",
          "data": {
            "text/plain": [
              "<Figure size 640x480 with 1 Axes>"
            ],
            "image/png": "[encoded data removed]"
          },
          "metadata": {}
        }
      ]
    },
    {
      "cell_type": "code",
      "source": [
        "elmodelo_XGBRegressor = XGBRegressor()\n",
        "\n",
        "mipipe = Pipeline(steps=[('ct',columnasTransformer),('m', elmodelo_XGBRegressor)])\n",
        "mipipe.fit(Xtrain, np.ravel(ytrainlog))\n",
        "yhattest_RF = mipipe.predict(Xtest)\n",
        "\n",
        "print('Error RSME(Test) de XGBRegressor: %.3f' % np.sqrt(mean_squared_error(np.ravel(ytestlog), yhattest_RF)))"
      ],
      "metadata": {
        "colab": {
          "base_uri": "https://localhost:8080/"
        },
        "id": "K3iHn0Hs9hfJ",
        "outputId": "a29c6272-1aab-4dac-9728-864021b3fb88"
      },
      "execution_count": null,
      "outputs": [
        {
          "output_type": "stream",
          "name": "stdout",
          "text": [
            "Error RSME(Test) de XGBRegressor: 0.829\n"
          ]
        }
      ]
    },
    {
      "cell_type": "code",
      "source": [
        "\n",
        "\n",
        "# Modelo inicial con SVM\n",
        "C = 1.0\n",
        "epsilon = 0.1\n",
        "\n",
        "# Crear el modelo\n",
        "modelo_SVM = SVR(C=C, epsilon=epsilon)\n",
        "\n",
        "mipipe = Pipeline(steps=[('ct', columnasTransformer), ('m', elmodelo_SVM)])\n",
        "\n",
        "train_sizes, train_scores, val_scores = learning_curve(estimator=mipipe,\n",
        "                                                        X=XtrainT,\n",
        "                                                        y=np.ravel(ytrainlog),\n",
        "                                                        cv=5,\n",
        "                                                        train_sizes=np.linspace(0.1, 1.0, 10),\n",
        "                                                        scoring='neg_mean_squared_error',\n",
        "                                                        n_jobs=-1)\n",
        "\n",
        "# Calculamos RMSE\n",
        "rmse_train_scores = np.sqrt(-train_scores)\n",
        "rmse_val_scores = np.sqrt(-val_scores)\n",
        "\n",
        "train_mean = np.mean(rmse_train_scores, axis=1)\n",
        "train_std = np.std(rmse_train_scores, axis=1)\n",
        "val_mean = np.mean(rmse_val_scores, axis=1)\n",
        "val_std = np.std(rmse_val_scores, axis=1)\n",
        "\n",
        "plt.plot(train_sizes, train_mean, color='blue', marker='o', markersize=5, label='Training Accuracy')\n",
        "plt.fill_between(train_sizes, train_mean + train_std, train_mean - train_std, alpha=0.15, color='blue')\n",
        "\n",
        "plt.plot(train_sizes, val_mean, color='green', marker='+', markersize=5, linestyle='--', label='Validation Accuracy')\n",
        "plt.fill_between(train_sizes, val_mean + val_std, val_mean - val_std, alpha=0.15, color='green')\n",
        "\n",
        "plt.title('Learning Curve - SVM')\n",
        "plt.xlabel('Training Data Size')\n",
        "plt.ylabel('Model accuracy')\n",
        "plt.grid()\n",
        "plt.legend(loc='lower right')\n",
        "plt.show()\n",
        "\n",
        "# Ajuste de hiperparámetros para SVM si es necesario\n",
        "elmodelo_SVM_ajustado = SVR(C=1.0, epsilon=0.1, kernel='rbf')\n"
      ],
      "metadata": {
        "colab": {
          "base_uri": "https://localhost:8080/",
          "height": 472
        },
        "id": "zYAmsh03yx2U",
        "outputId": "cbda282a-7bbb-437a-82eb-d0f3c3c462fb"
      },
      "execution_count": null,
      "outputs": [
        {
          "output_type": "display_data",
          "data": {
            "text/plain": [
              "<Figure size 640x480 with 1 Axes>"
            ],
            "image/png": "[encoded data removed]"
          },
          "metadata": {}
        }
      ]
    },
    {
      "cell_type": "code",
      "source": [
        "elmodelo_SVM_ajustado = SVR(C=C, epsilon=epsilon)\n",
        "\n",
        "mipipe = Pipeline(steps=[('ct',columnasTransformer),('m', elmodelo_SVM_ajustado)])\n",
        "mipipe.fit(Xtrain, np.ravel(ytrainlog))\n",
        "yhattest_SVR = mipipe.predict(Xtest)\n",
        "\n",
        "print('Error RSME(Test) de SVR: %.3f' % np.sqrt(mean_squared_error(np.ravel(ytestlog), yhattest_SVR)))"
      ],
      "metadata": {
        "colab": {
          "base_uri": "https://localhost:8080/"
        },
        "id": "l0fffqUg9uNE",
        "outputId": "aa75ab04-6065-491a-b2fc-9a3ea8e3c935"
      },
      "execution_count": null,
      "outputs": [
        {
          "output_type": "stream",
          "name": "stdout",
          "text": [
            "Error RSME(Test) de SVR: 0.935\n"
          ]
        }
      ]
    },
    {
      "cell_type": "code",
      "source": [
        "# Ajustar los parámetros\n",
        "learning_rate = 0.01\n",
        "max_iter = 1000\n",
        "alpha = 0.1\n",
        "\n",
        "# Crear el modelo\n",
        "modelo_MLP = MLPRegressor(learning_rate=learning_rate, max_iter=max_iter, alpha=alpha)\n",
        "\n",
        "\n",
        "mipipe = Pipeline(steps=[('ct', columnasTransformer), ('m', elmodelo_MLP)])\n",
        "\n",
        "train_sizes, train_scores, val_scores = learning_curve(estimator=mipipe,\n",
        "                                                        X=XtrainT,\n",
        "                                                        y=np.ravel(ytrainlog),\n",
        "                                                        cv=5,\n",
        "                                                        train_sizes=np.linspace(0.1, 1.0, 10),\n",
        "                                                        scoring='neg_mean_squared_error',\n",
        "                                                        n_jobs=-1)\n",
        "\n",
        "# Calculamos RMSE\n",
        "rmse_train_scores = np.sqrt(-train_scores)\n",
        "rmse_val_scores = np.sqrt(-val_scores)\n",
        "\n",
        "train_mean = np.mean(rmse_train_scores, axis=1)\n",
        "train_std = np.std(rmse_train_scores, axis=1)\n",
        "val_mean = np.mean(rmse_val_scores, axis=1)\n",
        "val_std = np.std(rmse_val_scores, axis=1)\n",
        "\n",
        "plt.plot(train_sizes, train_mean, color='blue', marker='o', markersize=5, label='Training Accuracy')\n",
        "plt.fill_between(train_sizes, train_mean + train_std, train_mean - train_std, alpha=0.15, color='blue')\n",
        "\n",
        "plt.plot(train_sizes, val_mean, color='green', marker='+', markersize=5, linestyle='--', label='Validation Accuracy')\n",
        "plt.fill_between(train_sizes, val_mean + val_std, val_mean - val_std, alpha=0.15, color='green')\n",
        "\n",
        "plt.title('Learning Curve - MLP')\n",
        "plt.xlabel('Training Data Size')\n",
        "plt.ylabel('Model accuracy')\n",
        "plt.grid()\n",
        "plt.legend(loc='lower right')\n",
        "plt.show()\n",
        "\n",
        "# Ajuste de hiperparámetros para MLP si es necesario\n",
        "elmodelo_MLP_ajustado = MLPRegressor(hidden_layer_sizes=(100,), max_iter=2000, learning_rate_init=0.001)\n"
      ],
      "metadata": {
        "colab": {
          "base_uri": "https://localhost:8080/",
          "height": 472
        },
        "id": "HrtDLep2y3ln",
        "outputId": "edcd6b7a-849a-4db9-d31b-2e5b1fc1246c"
      },
      "execution_count": null,
      "outputs": [
        {
          "output_type": "display_data",
          "data": {
            "text/plain": [
              "<Figure size 640x480 with 1 Axes>"
            ],
            "image/png": "[encoded data removed]"
          },
          "metadata": {}
        }
      ]
    },
    {
      "cell_type": "code",
      "source": [
        "elmodelo_MLPRegressor = MLPRegressor()\n",
        "\n",
        "mipipe = Pipeline(steps=[('ct',columnasTransformer),('m', elmodelo_MLPRegressor)])\n",
        "mipipe.fit(Xtrain, np.ravel(ytrainlog))\n",
        "yhattest_RF = mipipe.predict(Xtest)\n",
        "\n",
        "print('Error RSME(Test) de MLPRegressor: %.3f' % np.sqrt(mean_squared_error(np.ravel(ytestlog), yhattest_RF)))"
      ],
      "metadata": {
        "colab": {
          "base_uri": "https://localhost:8080/"
        },
        "id": "AuhJHj_R9v5e",
        "outputId": "2ed80a9f-33e0-439f-9c69-ef43e03cce4a"
      },
      "execution_count": null,
      "outputs": [
        {
          "output_type": "stream",
          "name": "stdout",
          "text": [
            "Error RSME(Test) de MLPRegressor: 1.126\n"
          ]
        }
      ]
    },
    {
      "cell_type": "markdown",
      "source": [
        "# **Ejercicio 5**"
      ],
      "metadata": {
        "id": "_wWlujaN0Zu-"
      }
    },
    {
      "cell_type": "markdown",
      "source": [
        "### **Incluye tus conclusiones finales de la Actividad.**\n",
        "### **En particular indica cuál consideras que fue el mejor modelo obtenido.**"
      ],
      "metadata": {
        "id": "A01wHjjM0eNf"
      }
    },
    {
      "cell_type": "markdown",
      "source": [
        "### ++++++++ Inicia la sección de agregar texto: +++++++++++\n",
        "\n",
        "\n",
        "El modelo XGBoost con un error RSME de .829 se destaca como el mejor de los cuatro evaluados.\n",
        "\n",
        "Su curva de error en el conjunto de entrenamiento disminuye constantemente, indicando un buen aprendizaje de los datos. La curva de error en el conjunto de validación también disminuye y se estabiliza en un nivel bajo, lo que refleja una buena generalización a nuevos datos y ausencia de sobreentrenamiento.\n",
        "\n",
        "En comparación con los demás modelos, XGBoost presenta el menor error en el conjunto de validación, confirmando su rendimiento superior.\n",
        "\n",
        "La gráfica del ganador muestra:\n",
        "\n",
        "Eje X: Número de iteraciones de entrenamiento.\n",
        "\n",
        "Eje Y: Error en el conjunto de entrenamiento y error en el conjunto de validación.\n",
        "\n",
        "Curva de error en el conjunto de entrenamiento: Disminuye constantemente, indicando un buen aprendizaje.\n",
        "Curva de error en el conjunto de validación: Disminuye y se estabiliza en un nivel bajo, reflejando buena generalización y ausencia de sobreentrenamiento.\n",
        "\n",
        "### ++++++++ Termina la sección de agregar texto. +++++++++++"
      ],
      "metadata": {
        "id": "aeZrOQkU0x9X"
      }
    },
    {
      "cell_type": "markdown",
      "source": [
        ">> **Fin de la Actividad de la Semana 7**"
      ],
      "metadata": {
        "id": "6r0YHMtI0ypO"
      }
    }
  ]
}